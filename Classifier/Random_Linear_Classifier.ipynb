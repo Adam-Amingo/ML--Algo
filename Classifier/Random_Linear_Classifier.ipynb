{
 "cells": [
  {
   "cell_type": "code",
   "execution_count": 60,
   "id": "8a827295",
   "metadata": {},
   "outputs": [],
   "source": [
    "##Hello , this is my first jupyter notebook"
   ]
  },
  {
   "cell_type": "markdown",
   "id": "636ba591",
   "metadata": {},
   "source": []
  },
  {
   "cell_type": "code",
   "execution_count": 61,
   "id": "e0263e31",
   "metadata": {},
   "outputs": [],
   "source": [
    "import numpy as np\n",
    "import matplotlib.pyplot as plt"
   ]
  },
  {
   "cell_type": "code",
   "execution_count": 62,
   "id": "39cf5634",
   "metadata": {},
   "outputs": [],
   "source": [
    "np.random.seed(0)"
   ]
  },
  {
   "cell_type": "code",
   "execution_count": 63,
   "id": "5ce770df",
   "metadata": {},
   "outputs": [],
   "source": [
    "#Dog: higher\n",
    "dogs_whisker_length = np.random.normal(loc = 5 , scale= 1 , size = 10)\n",
    "dogs_ear_flappines_index = np.random.normal(loc = 8 , scale = 1 , size = 10)"
   ]
  },
  {
   "cell_type": "code",
   "execution_count": 64,
   "id": "867d4800",
   "metadata": {},
   "outputs": [],
   "source": [
    "#cats: lower \n",
    "cats_whisker_length = np.random.normal(loc = 8 , scale = 1 , size = 10)\n",
    "cats_ear_flappines = np.random.normal(loc = 5 , scale = 1 , size = 10)"
   ]
  },
  {
   "cell_type": "code",
   "execution_count": 65,
   "id": "4fc484e9",
   "metadata": {},
   "outputs": [
    {
     "data": {
      "image/png": "[encoded data removed]",
      "text/plain": [
       "<Figure size 640x480 with 1 Axes>"
      ]
     },
     "metadata": {},
     "output_type": "display_data"
    }
   ],
   "source": [
    "plt.scatter(dogs_whisker_length , dogs_ear_flappines_index , label = 'Dogs')\n",
    "plt.scatter(cats_whisker_length , cats_ear_flappines, label = 'Cats')\n",
    "plt.xlabel('Whisker Length')\n",
    "plt.ylabel('Ear Flappines')\n",
    "plt.title('Dog vs Cat Classification')\n",
    "plt.legend()\n",
    "plt.show()"
   ]
  },
  {
   "cell_type": "code",
   "execution_count": 66,
   "id": "4a7522b3",
   "metadata": {},
   "outputs": [],
   "source": [
    "#Implementing random Linear  Classifier algorithms \n",
    "def random_linear_classifier(data_dogs , data_cats , k , d):\n",
    "    #d= number_of_features\n",
    "    best_error = float('inf')\n",
    "    best_theta = None\n",
    "    best_theta0 = None\n",
    "\n",
    "    for _ in range(k):\n",
    "        theta = np.random.normal(size = d)\n",
    "        theta0 = np.random.normal()\n",
    "\n",
    "        error = compute_error(data_dogs , data_cats , theta , theta0)\n",
    "\n",
    "        if error < best_error:\n",
    "            best_error = error\n",
    "            best_theta = theta\n",
    "            best_theta0 = theta0\n",
    "        \n",
    "    return best_theta , best_theta0"
   ]
  },
  {
   "cell_type": "code",
   "execution_count": 67,
   "id": "9fb1c4a8",
   "metadata": {},
   "outputs": [],
   "source": [
    "#compute error\n",
    "def compute_error(data_dogs , data_cats, theta , theta0):\n",
    "    error = 0 \n",
    "\n",
    "    for x_dog in data_dogs:\n",
    "        if np.dot(theta , x_dog) + theta0 <= 0 :\n",
    "            error += 1 \n",
    "    \n",
    "    for x_cats in data_cats :\n",
    "        if np.dot(theta , x_cats) + theta0 > 0 :\n",
    "            error += 1 \n",
    "\n",
    "    return error"
   ]
  },
  {
   "cell_type": "code",
   "execution_count": 68,
   "id": "fcb09a00",
   "metadata": {},
   "outputs": [],
   "source": [
    "#preparing data for alogorithm\n",
    "dogs_data = np.vstack((dogs_whisker_length, dogs_ear_flappines_index)).T\n",
    "cats_data= np.vstack((cats_whisker_length , cats_ear_flappines)).T"
   ]
  },
  {
   "cell_type": "code",
   "execution_count": 69,
   "id": "19af37f4",
   "metadata": {},
   "outputs": [
    {
     "data": {
      "text/plain": [
       "array([[6.76405235, 8.14404357],\n",
       "       [5.40015721, 9.45427351],\n",
       "       [5.97873798, 8.76103773],\n",
       "       [7.2408932 , 8.12167502],\n",
       "       [6.86755799, 8.44386323],\n",
       "       [4.02272212, 8.33367433],\n",
       "       [5.95008842, 9.49407907],\n",
       "       [4.84864279, 7.79484174],\n",
       "       [4.89678115, 8.3130677 ],\n",
       "       [5.4105985 , 7.14590426]])"
      ]
     },
     "execution_count": 69,
     "metadata": {},
     "output_type": "execute_result"
    }
   ],
   "source": [
    "dogs_data"
   ]
  },
  {
   "cell_type": "code",
   "execution_count": 70,
   "id": "d9b5efa5",
   "metadata": {},
   "outputs": [
    {
     "data": {
      "text/plain": [
       "array([[ 5.44701018,  5.15494743],\n",
       "       [ 8.6536186 ,  5.37816252],\n",
       "       [ 8.8644362 ,  4.11221425],\n",
       "       [ 7.25783498,  3.01920353],\n",
       "       [10.26975462,  4.65208785],\n",
       "       [ 6.54563433,  5.15634897],\n",
       "       [ 8.04575852,  6.23029068],\n",
       "       [ 7.81281615,  6.20237985],\n",
       "       [ 9.53277921,  4.61267318],\n",
       "       [ 9.46935877,  4.69769725]])"
      ]
     },
     "execution_count": 70,
     "metadata": {},
     "output_type": "execute_result"
    }
   ],
   "source": [
    "cats_data"
   ]
  },
  {
   "cell_type": "code",
   "execution_count": 71,
   "id": "4306d000",
   "metadata": {},
   "outputs": [],
   "source": [
    "#Run random linear classifiers algorithm\n",
    "k = 100 # number of iterations\n",
    "d = 2\n",
    "best_theta , best_theta0 = random_linear_classifier(dogs_data , cats_data , k , d)"
   ]
  },
  {
   "cell_type": "code",
   "execution_count": 72,
   "id": "fd1efb01",
   "metadata": {},
   "outputs": [
    {
     "data": {
      "text/plain": [
       "array([-1.07075262,  1.05445173])"
      ]
     },
     "execution_count": 72,
     "metadata": {},
     "output_type": "execute_result"
    }
   ],
   "source": [
    "best_theta\n"
   ]
  },
  {
   "cell_type": "code",
   "execution_count": 73,
   "id": "1d149507",
   "metadata": {},
   "outputs": [
    {
     "data": {
      "text/plain": [
       "-0.40317694697317963"
      ]
     },
     "execution_count": 73,
     "metadata": {},
     "output_type": "execute_result"
    }
   ],
   "source": [
    "best_theta0"
   ]
  },
  {
   "cell_type": "code",
   "execution_count": 74,
   "id": "6872269a",
   "metadata": {},
   "outputs": [],
   "source": [
    "#plot the decision boundary\n",
    "x_vals = np.linspace(2 , 10 , 100)\n",
    "y_vals = (-best_theta[0] / best_theta[1] * x_vals - (best_theta0 / best_theta[1]))"
   ]
  },
  {
   "cell_type": "code",
   "execution_count": 75,
   "id": "b4484c50",
   "metadata": {},
   "outputs": [
    {
     "data": {
      "image/png": "[encoded data removed]",
      "text/plain": [
       "<Figure size 640x480 with 1 Axes>"
      ]
     },
     "metadata": {},
     "output_type": "display_data"
    }
   ],
   "source": [
    "plt.scatter(dogs_whisker_length , dogs_ear_flappines_index , label = 'Dogs')\n",
    "plt.scatter(cats_whisker_length , cats_ear_flappines, label = 'Cats')\n",
    "plt.plot(x_vals , y_vals , color = 'red' , linestyle = '--' , label = 'Decision Boundary')\n",
    "plt.xlabel('Whisker Length')\n",
    "plt.ylabel('Ear Flappines')\n",
    "plt.title('Dog vs Cat Classification with random linear classificatio')\n",
    "plt.legend()\n",
    "plt.show()"
   ]
  },
  {
   "cell_type": "code",
   "execution_count": null,
   "id": "b6c3d202",
   "metadata": {},
   "outputs": [],
   "source": []
  }
 ],
 "metadata": {
  "kernelspec": {
   "display_name": "Python 3",
   "language": "python",
   "name": "python3"
  },
  "language_info": {
   "codemirror_mode": {
    "name": "ipython",
    "version": 3
   },
   "file_extension": ".py",
   "mimetype": "text/x-python",
   "name": "python",
   "nbconvert_exporter": "python",
   "pygments_lexer": "ipython3",
   "version": "3.13.5"
  }
 },
 "nbformat": 4,
 "nbformat_minor": 5
}
